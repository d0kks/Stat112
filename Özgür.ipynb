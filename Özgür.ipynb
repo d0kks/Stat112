{
 "cells": [
  {
   "cell_type": "code",
   "execution_count": null,
   "metadata": {},
   "outputs": [],
   "source": [
    "import pandas as pd\n",
    "import matplotlib.pyplot as plt\n",
    "import seaborn as sns\n",
    "\n",
    "# After the import commands, Firstly we should Load our dataset\n",
    "file_path = 'cleaned_airbnb_data.csv'\n",
    "data_new = pd.read_csv(file_path)\n",
    "\n",
    "# Now we will filter the data to exclude outliers by limiting guest satisfaction scores to 70\n",
    "filtered_data = data_new[data_new[\"GUEST_SATISFACTION_OVERALL\"] <= 70]\n",
    "\n",
    "# Creating the violin plot\n",
    "plt.figure(figsize=(12, 8))\n",
    "sns.violinplot(\n",
    "    x=\"CITY\",\n",
    "    y=\"GUEST_SATISFACTION_OVERALL\",\n",
    "    data=filtered_data,\n",
    "    palette=\"coolwarm\",\n",
    "    scale=\"width\",\n",
    "    inner=\"quartile\"\n",
    ")\n",
    "\n",
    "# In this part we will Add labels and title for graph\n",
    "plt.title(\"Guest Satisfaction Distribution by City (Violin Plot, No Outliers)\", fontsize=18, weight=\"bold\")\n",
    "plt.xlabel(\"City\", fontsize=14)\n",
    "plt.ylabel(\"Guest Satisfaction Score\", fontsize=14)\n",
    "plt.xticks(rotation=45, fontsize=12)\n",
    "plt.grid(axis=\"y\", linestyle=\"--\", alpha=0.7)\n",
    "\n",
    "# Adjust layout\n",
    "plt.tight_layout()\n",
    "\n",
    "# Last step is showing the graph.\n",
    "plt.show()\n"
   ]
  }
 ],
 "metadata": {
  "language_info": {
   "name": "python"
  }
 },
 "nbformat": 4,
 "nbformat_minor": 2
}
