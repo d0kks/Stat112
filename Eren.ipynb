{
 "cells": [
  {
   "cell_type": "code",
   "execution_count": null,
   "metadata": {},
   "outputs": [],
   "source": [
    "import pandas as pd\n",
    "import matplotlib.pyplot as plt\n",
    "\n",
    "# Load the cleaned Airbnb data\n",
    "file_path = 'cleaned_airbnb_data.csv'\n",
    "data = pd.read_csv(file_path)\n",
    "\n",
    "# Rename columns for consistency\n",
    "data.rename(columns=lambda x: x.lower(), inplace=True)  # Lowercase column names\n",
    "\n",
    "# Filter the necessary columns and remove missing data\n",
    "filtered_data = data[['reviews_per_month', 'guest_satisfaction_overall']].dropna() # Filter columns and remove missing data\n",
    "\n",
    "# Filter the data to include only guest satisfaction ratings within the range [0, 10]\n",
    "specific_range_data = filtered_data[\n",
    "    (filtered_data['guest_satisfaction_overall'] >= 0) &  # Lower bound\n",
    "    (filtered_data['guest_satisfaction_overall'] <= 10)   # Upper bound\n",
    "]\n",
    "\n",
    "# Group data by reviews per month and calculate the mean guest satisfaction rating\n",
    "average_satisfaction_range = specific_range_data.groupby('reviews_per_month')['guest_satisfaction_overall'].mean() # Average satisfaction rating\n",
    "\n",
    "# Create the line graph for the specific range\n",
    "plt.figure(figsize=(10, 6)) # Set the figure size\n",
    "plt.plot(average_satisfaction_range.index, average_satisfaction_range.values, marker='o', linestyle='-', label='Average Satisfaction') # Plot the line graph\n",
    "plt.title('Line Graph of Reviews Per Month vs Average Guest Satisfaction Ratings (0-10 Range)') # Set the title\n",
    "plt.xlabel('Reviews Per Month') # Set the x-axis label\n",
    "plt.ylabel('Average Guest Satisfaction Overall Rating') # Set the y-axis label\n",
    "plt.grid(True) # Enable the grid\n",
    "plt.legend() # Show the legend\n",
    "plt.show()"
   ]
  }
 ],
 "metadata": {
  "language_info": {
   "name": "python"
  }
 },
 "nbformat": 4,
 "nbformat_minor": 2
}
